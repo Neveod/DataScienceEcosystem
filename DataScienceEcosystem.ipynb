{
 "cells": [
  {
   "cell_type": "markdown",
   "id": "c4d1d7e7-4637-4f7a-8b58-0ce92d4645de",
   "metadata": {},
   "source": [
    "# Data Science Tools and Ecosystem"
   ]
  },
  {
   "cell_type": "markdown",
   "id": "6fef2eb5-a06c-4531-8119-2daee4c1e093",
   "metadata": {},
   "source": [
    "In this notebook, Data Science Tools and Ecosystem are summarized."
   ]
  },
  {
   "cell_type": "markdown",
   "id": "dd9c97cc-75ab-4bbf-953e-81770b780bdd",
   "metadata": {},
   "source": [
    "__Objectives:__\n",
    "- List libraries\n",
    "- list popular Data Science Tools\n",
    "- List common languages for Data Science\n",
    "- Show arithmetics and commenting"
   ]
  },
  {
   "cell_type": "markdown",
   "id": "915279ac-c67e-4af7-a5f3-77fc1437a073",
   "metadata": {},
   "source": [
    "Some of the popular languages that Data Scientists use are:\n",
    "1. Python\n",
    "2. R\n",
    "3. C++\n",
    "4. SQL"
   ]
  },
  {
   "cell_type": "markdown",
   "id": "395410e6-5bef-49db-b44b-a548e867a618",
   "metadata": {},
   "source": [
    "Some of the commonly used libraries used by Data Scientists include:\n",
    "1. ggplot\n",
    "2. Pandas\n",
    "3. Numpy\n",
    "4. Seaborn\n",
    "5. Scikit-Learn"
   ]
  },
  {
   "cell_type": "markdown",
   "id": "2b457ae7-d0dc-43cb-96b3-9f8b3281898c",
   "metadata": {},
   "source": [
    "|Data Science Tools|\n",
    "|-----------------|\n",
    "|MySQL|\n",
    "|MongoDB|\n",
    "|Apache CouchDB|\n",
    "|Apache Cassandra|\n",
    "|PostgreSQL|"
   ]
  },
  {
   "cell_type": "markdown",
   "id": "c4b3037a-767a-4b18-a847-05351660aff7",
   "metadata": {
    "tags": []
   },
   "source": [
    "### Below are a few examples of evaluating arithmetic expressions in Python."
   ]
  },
  {
   "cell_type": "code",
   "execution_count": 7,
   "id": "55a481f7-b5ef-4b3c-b5e4-84b8954b2fc8",
   "metadata": {
    "tags": []
   },
   "outputs": [
    {
     "data": {
      "text/plain": [
       "17.0"
      ]
     },
     "execution_count": 7,
     "metadata": {},
     "output_type": "execute_result"
    }
   ],
   "source": [
    "#This a simple arithmetic expression to mutiply then add integers.\n",
    "(3*4)+5."
   ]
  },
  {
   "cell_type": "code",
   "execution_count": 8,
   "id": "012c2404-588f-4b22-b6a2-729c579fc025",
   "metadata": {
    "tags": []
   },
   "outputs": [
    {
     "data": {
      "text/plain": [
       "3.3333333333333335"
      ]
     },
     "execution_count": 8,
     "metadata": {},
     "output_type": "execute_result"
    }
   ],
   "source": [
    "#This will convert 200 minutes to hours by diving by 60.\n",
    "200/60"
   ]
  },
  {
   "cell_type": "markdown",
   "id": "619461b3-8819-40e1-a7e5-ac81ce87bd67",
   "metadata": {},
   "source": [
    "## Author\n",
    "Neve O'Dwyer"
   ]
  },
  {
   "cell_type": "code",
   "execution_count": null,
   "id": "133abd05-1b64-4abc-ba09-ec6ae01e69dd",
   "metadata": {},
   "outputs": [],
   "source": []
  }
 ],
 "metadata": {
  "kernelspec": {
   "display_name": "Python",
   "language": "python",
   "name": "conda-env-python-py"
  },
  "language_info": {
   "codemirror_mode": {
    "name": "ipython",
    "version": 3
   },
   "file_extension": ".py",
   "mimetype": "text/x-python",
   "name": "python",
   "nbconvert_exporter": "python",
   "pygments_lexer": "ipython3",
   "version": "3.7.12"
  }
 },
 "nbformat": 4,
 "nbformat_minor": 5
}
